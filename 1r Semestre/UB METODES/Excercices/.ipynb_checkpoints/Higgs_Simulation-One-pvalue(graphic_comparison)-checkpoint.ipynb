{
 "cells": [
  {
   "cell_type": "markdown",
   "id": "5b79a4dc",
   "metadata": {},
   "source": [
    "## Simulation of the Higgs' boson detection experiment\n",
    "\n",
    "See: http://www.sciencedirect.com/science/article/pii/S037026931200857X\n",
    "\n",
    "Physics Letters B\n",
    "      Volume 716, Issue 1, 17 September 2012, Pages 1-29\n",
    "\n",
    "The following code produces a distribution of events that \n",
    "__qualitatively__ reproduces the values in Figure 4 of the above\n",
    "paper. It is not base on any actual physics but can be used\n",
    "for the purposes of this course to emulate the kind of distribution\n",
    "resulting from the experiment"
   ]
  },
  {
   "cell_type": "code",
   "execution_count": 89,
   "id": "44e5ba86",
   "metadata": {},
   "outputs": [
    {
     "data": {
      "image/png": "[encoded data removed]",
      "text/plain": [
       "<Figure size 432x288 with 1 Axes>"
      ]
     },
     "metadata": {
      "needs_background": "light"
     },
     "output_type": "display_data"
    }
   ],
   "source": [
    "%matplotlib inline\n",
    "import scipy.stats as scp\n",
    "import matplotlib.pyplot as plt\n",
    "import numpy as np\n",
    "\n",
    "# Higgs' boson mass in GeV \n",
    "mH= 126.5\n",
    "\n",
    "#Total number of events generated and ratios background/signal\n",
    "years=1\n",
    "Ntot = 80000*years\n",
    "Nbg = int(Ntot*0.995)\n",
    "Ns = int(Ntot*0.005)\n",
    "\n",
    "# Max and min GeV of the sample\n",
    "min= 100\n",
    "max= 160\n",
    "\n",
    "# Bins for plot\n",
    "SizeBins=2\n",
    "Nbins=int((max-min)/SizeBins)+1\n",
    "bins= np.linspace(min,max,Nbins)\n",
    "\n",
    "# Rate\n",
    "tau= 0.0218\n",
    "\n",
    "#GENERATING DATA\n",
    "# Generating background (truncated exponential)\n",
    "bg_dist= scp.truncexpon(b=(max-min)*tau, loc=min, scale=1./tau)\n",
    "bg_points= bg_dist.rvs(Nbg)\n",
    "\n",
    "# Generating signal (gaussian) around mH. We take a sigma of 2.\n",
    "sig_dist= scp.norm(loc=mH,scale=2)\n",
    "sig_points= sig_dist.rvs(Ns)\n",
    "\n",
    "# Join background and signal in a single sample\n",
    "all_points= np.concatenate( (bg_points,sig_points) )\n",
    "\n",
    "# Histogram of global sample\n",
    "# Note: the binning here is the one used in Figure 4\n",
    "hh= plt.hist(all_points,bins,label='PDF empirica')\n",
    "\n",
    "\n",
    "#GENERATING THE COMPARISON NULL HYPOTHESIS (exponential)\n",
    "#p_bins= [ Ntot*(bg_dist.pdf(bins[i])+bg_dist.pdf(bins[i+1]))*SizeBins/2 for i in range(len(bins)-1)]\n",
    "p_bins= [ Ntot*(bg_dist.cdf(bins[i+1])-bg_dist.cdf(bins[i])) for i in range(len(bins)-1)]    \n",
    "\n",
    "# Histogram of the comparison (exponential)\n",
    "x= bg_dist.rvs(Ntot)\n",
    "p= plt.hist(x,bins, histtype=u'step', label='PDF exponential')    \n",
    "    \n",
    "# Run test\n",
    "c2_stat, p_val = scp.chisquare(hh[0],p_bins)     \n",
    "\n",
    "#PLOT\n",
    "plt.grid(True)\n",
    "plt.xlabel('Energy GeV')\n",
    "plt.ylabel('N events')\n",
    "plt.title(\"p value = {:.7f}\".format(p_val))\n",
    "plt.legend(loc=1)\n",
    "plt.show()"
   ]
  },
  {
   "cell_type": "code",
   "execution_count": null,
   "id": "0f7bf65b",
   "metadata": {},
   "outputs": [],
   "source": []
  }
 ],
 "metadata": {
  "kernelspec": {
   "display_name": "Python 3",
   "language": "python",
   "name": "python3"
  },
  "language_info": {
   "codemirror_mode": {
    "name": "ipython",
    "version": 3
   },
   "file_extension": ".py",
   "mimetype": "text/x-python",
   "name": "python",
   "nbconvert_exporter": "python",
   "pygments_lexer": "ipython3",
   "version": "3.8.8"
  }
 },
 "nbformat": 4,
 "nbformat_minor": 5
}
