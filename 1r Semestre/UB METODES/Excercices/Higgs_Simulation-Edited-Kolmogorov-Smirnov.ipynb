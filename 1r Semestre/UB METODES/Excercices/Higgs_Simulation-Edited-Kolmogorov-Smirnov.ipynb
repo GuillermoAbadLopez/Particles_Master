{
 "cells": [
  {
   "cell_type": "markdown",
   "id": "5b79a4dc",
   "metadata": {},
   "source": [
    "## Simulation of the Higgs' boson detection experiment\n",
    "\n",
    "See: http://www.sciencedirect.com/science/article/pii/S037026931200857X\n",
    "\n",
    "Physics Letters B\n",
    "      Volume 716, Issue 1, 17 September 2012, Pages 1-29\n",
    "\n",
    "The following code produces a distribution of events that \n",
    "__qualitatively__ reproduces the values in Figure 4 of the above\n",
    "paper. It is not base on any actual physics but can be used\n",
    "for the purposes of this course to emulate the kind of distribution\n",
    "resulting from the experiment"
   ]
  },
  {
   "cell_type": "code",
   "execution_count": 31,
   "id": "44e5ba86",
   "metadata": {
    "scrolled": false
   },
   "outputs": [
    {
     "name": "stdout",
     "output_type": "stream",
     "text": [
      "\n",
      "In 41 years of collected data:\n"
     ]
    },
    {
     "data": {
      "image/png": "[encoded data removed]",
      "text/plain": [
       "<Figure size 432x288 with 1 Axes>"
      ]
     },
     "metadata": {
      "needs_background": "light"
     },
     "output_type": "display_data"
    },
    {
     "name": "stdout",
     "output_type": "stream",
     "text": [
      "Chance that the p-value is under 5-sigmas is: 93.7 %\n",
      "\n"
     ]
    }
   ],
   "source": [
    "%matplotlib inline\n",
    "import scipy.stats as scp\n",
    "import matplotlib.pyplot as plt\n",
    "import numpy as np\n",
    "\n",
    "# Higgs' boson mass in GeV \n",
    "mH= 126.5\n",
    "\n",
    "#Total number of events generated and ratios background/signal\n",
    "years=41\n",
    "Ntot = 80000*years\n",
    "Nbg = int(Ntot*0.995)\n",
    "Ns = int(Ntot*0.005)\n",
    "Nsamples= 1000 #number of 1 year diferent experiments to compute each p value\n",
    "\n",
    "# Max and min GeV of the sample\n",
    "min= 100\n",
    "max= 160\n",
    "\n",
    "# Bins for plot\n",
    "SizeBins=2\n",
    "Nbins=int((max-min)/SizeBins)+1\n",
    "bins= np.linspace(min,max,Nbins)\n",
    "\n",
    "# Rate\n",
    "tau= 0.0218\n",
    "\n",
    "# Distributions i'll use\n",
    "bg_dist= scp.truncexpon(b=(max-min)*tau, loc=min, scale=1./tau)\n",
    "sig_dist= scp.norm(loc=mH,scale=2)\n",
    "   \n",
    "\n",
    "#GENERATE DATA AND COMPILE P VALUES\n",
    "p_values= []\n",
    "D_values= []\n",
    "for i in range(Nsamples):\n",
    "\n",
    "    # Generating background (truncated exponential)\n",
    "    bg_points= bg_dist.rvs(Nbg)\n",
    "\n",
    "    # Generating signal (gaussian) around mH. We take a sigma of 2.\n",
    "    sig_points= sig_dist.rvs(Ns)\n",
    "\n",
    "    # Join background and signal in a single sample\n",
    "    all_points= np.concatenate( (bg_points,sig_points))\n",
    "    \n",
    "    #GENERATE THE COMPARISON NULL HYPOTHESIS (exponential)\n",
    "    bg_points2 = bg_dist.rvs(Ntot)\n",
    "    \n",
    "    # Run test\n",
    "    D_value, p_value = scp.ks_2samp(all_points,bg_points2)\n",
    "    p_values.append(p_value)\n",
    "    \n",
    "\n",
    "\n",
    "#Histogram of p values\n",
    "h = plt.hist(p_values,50)  \n",
    "#Computing expected p value\n",
    "counter=0\n",
    "p_mean= np.mean(p_values)\n",
    "p_var = np.var(p_values)\n",
    "for i in range(Nsamples):\n",
    "    if p_values[i] < 2.9e-7:\n",
    "        counter+=1\n",
    "\n",
    "#PLOT\n",
    "print('')         \n",
    "print('In' , years, 'years of collected data:')\n",
    "\n",
    "plt.grid(True)\n",
    "plt.xlabel('p')\n",
    "plt.ylabel('Count')\n",
    "\n",
    "plt.title(\"p values with mean {:.8f} and variance {:.8f}\".format(p_mean,p_var))\n",
    "plt.show()\n",
    "\n",
    "print('Chance that the p-value is under 5-sigmas is:',counter/Nsamples*100,'%')\n",
    "print('')\n"
   ]
  },
  {
   "cell_type": "code",
   "execution_count": null,
   "id": "056a3c4f",
   "metadata": {},
   "outputs": [],
   "source": []
  }
 ],
 "metadata": {
  "kernelspec": {
   "display_name": "Python 3",
   "language": "python",
   "name": "python3"
  },
  "language_info": {
   "codemirror_mode": {
    "name": "ipython",
    "version": 3
   },
   "file_extension": ".py",
   "mimetype": "text/x-python",
   "name": "python",
   "nbconvert_exporter": "python",
   "pygments_lexer": "ipython3",
   "version": "3.8.8"
  }
 },
 "nbformat": 4,
 "nbformat_minor": 5
}
