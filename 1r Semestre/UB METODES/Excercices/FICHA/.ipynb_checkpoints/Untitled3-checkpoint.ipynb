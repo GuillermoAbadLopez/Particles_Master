{
 "cells": [
  {
   "cell_type": "code",
   "execution_count": null,
   "id": "3aee52be",
   "metadata": {},
   "outputs": [],
   "source": [
    "df_group=df.groupby('number_of_assignments')['total_real_distance'].mean()\n",
    "df_group.name='mean_total_real_distance_by_n_of_assignments'\n",
    "df_new=df.join(df_group, on=['number_of_assignments'], how = 'inner')\n",
    "df_new"
   ]
  },
  {
   "cell_type": "code",
   "execution_count": null,
   "id": "c10d84e7",
   "metadata": {},
   "outputs": [],
   "source": [
    "df_new['number_of_assignments'].plot(kind='bar')"
   ]
  }
 ],
 "metadata": {
  "kernelspec": {
   "display_name": "Python 3",
   "language": "python",
   "name": "python3"
  },
  "language_info": {
   "codemirror_mode": {
    "name": "ipython",
    "version": 3
   },
   "file_extension": ".py",
   "mimetype": "text/x-python",
   "name": "python",
   "nbconvert_exporter": "python",
   "pygments_lexer": "ipython3",
   "version": "3.8.8"
  }
 },
 "nbformat": 4,
 "nbformat_minor": 5
}
