{
 "cells": [
  {
   "cell_type": "code",
   "execution_count": 45,
   "id": "54cbc854",
   "metadata": {},
   "outputs": [
    {
     "name": "stdout",
     "output_type": "stream",
     "text": [
      "[[0.357738]\n",
      " [0.108768]\n",
      " [0.432997]\n",
      " ...\n",
      " [0.367779]\n",
      " [0.509293]\n",
      " [0.745811]]\n"
     ]
    },
    {
     "data": {
      "image/png": "[encoded data removed]",
      "text/plain": [
       "<Figure size 432x288 with 1 Axes>"
      ]
     },
     "metadata": {
      "needs_background": "light"
     },
     "output_type": "display_data"
    }
   ],
   "source": [
    "import scipy.stats as scp\n",
    "import matplotlib.pylab as plt\n",
    "import numpy as np\n",
    "import pandas as pd\n",
    "\n",
    "df=pd.read_csv('C:\\CARRERAS\\TRABAJOS\\GLOVO\\Random_numbers0.csv',  header=None, names=['random'])\n",
    "x=df.to_numpy()\n",
    "print(x)\n",
    "\n",
    "# Plot histogram; we use the hist function to recover the counts per bin\n",
    "h= plt.hist(x,20) # h[0] will be the counts per bin\n",
    "plt.grid(True)\n",
    "plt.xlabel('Val')\n",
    "plt.ylabel('Count')\n",
    "\n",
    "# Run test\n",
    "c2_stat, p_val = scp.chisquare(h[0])   \n",
    "\n",
    "t = plt.title(\"p value = {:.4f}\".format(p_val))\n",
    "plt.show()"
   ]
  },
  {
   "cell_type": "code",
   "execution_count": 41,
   "id": "77e579e7",
   "metadata": {},
   "outputs": [
    {
     "name": "stdout",
     "output_type": "stream",
     "text": [
      "The % of numbers that are in the wrong side of the expected median is:\n",
      "0.137\n"
     ]
    }
   ],
   "source": [
    "import scipy.stats as scp\n",
    "import matplotlib.pylab as plt\n",
    "import numpy as np\n",
    "import pandas as pd\n",
    "\n",
    "df=pd.read_csv('C:\\CARRERAS\\TRABAJOS\\GLOVO\\Random_numbers.csv',  header=None, names=['random'])\n",
    "x=df.to_numpy()\n",
    "\n",
    "counter=0\n",
    "for i in range(len(x)):\n",
    "    if x[i]<0.5:\n",
    "        counter+=1\n",
    "print(\"The % of numbers that are in the wrong side of the expected median is:\")       \n",
    "print(abs(50000-counter)*100/100000)"
   ]
  },
  {
   "cell_type": "code",
   "execution_count": 57,
   "id": "02af6a32",
   "metadata": {},
   "outputs": [
    {
     "name": "stdout",
     "output_type": "stream",
     "text": [
      "[[0.357738]\n",
      " [0.108768]\n",
      " [0.432997]\n",
      " ...\n",
      " [0.367779]\n",
      " [0.509293]\n",
      " [0.745811]]\n",
      "5017.0\n",
      "4961.0\n",
      "4979.0\n",
      "4972.0\n",
      "5022.0\n",
      "5131.0\n",
      "4955.0\n",
      "5108.0\n",
      "4932.0\n",
      "4984.0\n",
      "4942.0\n",
      "5022.0\n",
      "4998.0\n",
      "5018.0\n",
      "5060.0\n",
      "4948.0\n",
      "4976.0\n",
      "4995.0\n",
      "5025.0\n",
      "4955.0\n",
      "10.596000000000002\n"
     ]
    },
    {
     "data": {
      "image/png": "[encoded data removed]",
      "text/plain": [
       "<Figure size 432x288 with 1 Axes>"
      ]
     },
     "metadata": {
      "needs_background": "light"
     },
     "output_type": "display_data"
    }
   ],
   "source": [
    "import scipy.stats as scp\n",
    "import matplotlib.pylab as plt\n",
    "import numpy as np\n",
    "import pandas as pd\n",
    "\n",
    "df=pd.read_csv('C:\\CARRERAS\\TRABAJOS\\GLOVO\\Random_numbers0.csv',  header=None, names=['random'])\n",
    "x=df.to_numpy()\n",
    "print(x)\n",
    "\n",
    "# Plot histogram; we use the hist function to recover the counts per bin\n",
    "h= plt.hist(x,20) # h[0] will be the counts per bin\n",
    "plt.grid(True)\n",
    "plt.xlabel('Val')\n",
    "plt.ylabel('Count')\n",
    "\n",
    "# Run test\n",
    "counter=0\n",
    "for i in range(len(h[0])):\n",
    "    print(h[0][i])\n",
    "    counter+=(h[0][i]-5000)**2/5000\n",
    "    \n",
    "print(counter)"
   ]
  },
  {
   "cell_type": "code",
   "execution_count": null,
   "id": "8e72406a",
   "metadata": {},
   "outputs": [],
   "source": []
  }
 ],
 "metadata": {
  "kernelspec": {
   "display_name": "Python 3",
   "language": "python",
   "name": "python3"
  },
  "language_info": {
   "codemirror_mode": {
    "name": "ipython",
    "version": 3
   },
   "file_extension": ".py",
   "mimetype": "text/x-python",
   "name": "python",
   "nbconvert_exporter": "python",
   "pygments_lexer": "ipython3",
   "version": "3.8.8"
  }
 },
 "nbformat": 4,
 "nbformat_minor": 5
}
