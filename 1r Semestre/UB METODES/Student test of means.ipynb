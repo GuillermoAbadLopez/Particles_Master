{
 "cells": [
  {
   "cell_type": "markdown",
   "metadata": {},
   "source": [
    "# Student's T test: checking for equal means\n",
    "\n",
    "This test is applied to compare the means of two samples. Given two samples:\n",
    "\n",
    "* $(x_1, \\ldots, x_N)$ of mean $\\overline{x}$\n",
    "* $(y_1, \\ldots, y_M)$ of mean $\\overline{y}$\n",
    "\n",
    "If the distributions from which the two samples have been generated __have the same variance__ we can define a test to compare the two means $\\overline{x}$ and $\\overline{y}$ and decide if they are compatible.\n",
    "\n",
    "Let the standard error of the sample mean differences be:\n",
    "\n",
    "$s_D = \\sqrt{ \n",
    "         \\frac\n",
    "            { \\sum_{i=1}^{N}(x_i-\\overline{x})^2 + \\sum_{i=1}^{N}(y_i-\\overline{y})^2 } \n",
    "            {N+M-2} \n",
    "         \\left( \\frac{1}{N}+\\frac{1}{M} \\right)\n",
    "}$\n",
    "\n",
    "__Null hipothesis $H_0$:__ the distributions of the two samples have the same mean and the same variance.\n",
    "\n",
    "Then, if $H_0$ is true, the statistic:\n",
    "\n",
    "$t = \\frac{\\overline{x}-\\overline{y}}{s_D}$\n",
    "\n",
    "Follows a student T distribution with N+M-2 degrees of freedom. Using $t$ the Student T test is defined; the significance of the test is defined as $P( |x| \\geq |t| )$\n",
    "\n",
    "The Student T distribution is depicted below. Notice how the significance $P$ decreases as the value of t increases."
   ]
  },
  {
   "cell_type": "markdown",
   "metadata": {},
   "source": [
    "## Example of test using two normal samples, equal variances\n",
    "\n",
    "We can play making the means similar or different to see how the test works."
   ]
  },
  {
   "cell_type": "code",
   "execution_count": 4,
   "metadata": {},
   "outputs": [
    {
     "data": {
      "text/plain": [
       "<function matplotlib.pyplot.show(close=None, block=None)>"
      ]
     },
     "execution_count": 4,
     "metadata": {},
     "output_type": "execute_result"
    },
    {
     "data": {
      "image/png": "[encoded data removed]",
      "text/plain": [
       "<Figure size 432x288 with 1 Axes>"
      ]
     },
     "metadata": {
      "needs_background": "light"
     },
     "output_type": "display_data"
    }
   ],
   "source": [
    "%matplotlib inline\n",
    "import scipy.stats as scp\n",
    "import matplotlib.pylab as plt\n",
    "import numpy as np\n",
    "\n",
    "# Parameters of the normal distributions to use\n",
    "# and number of points per sample\n",
    "mu1=0\n",
    "mu2=0.0\n",
    "sig=1\n",
    "\n",
    "N= 100000\n",
    "M= 100000\n",
    "\n",
    "# Generate a normal sample \n",
    "x = scp.norm.rvs(mu1, sig, N)\n",
    "y = scp.norm.rvs(mu2, sig, M)\n",
    "\n",
    "# Plot histograms\n",
    "h= plt.hist(x,alpha=0.5)\n",
    "h= plt.hist(y,alpha=0.5)\n",
    "plt.grid(True)\n",
    "plt.xlabel('Val')\n",
    "plt.ylabel('Count')\n",
    "\n",
    "\n",
    "# Run test\n",
    "t_stat, p_val = scp.ttest_ind(x, y, equal_var=True)   # Use t-test assuming equal variances\n",
    "\n",
    "t = plt.title(\"P value = {:.4f}\".format(p_val))\n",
    "plt.show"
   ]
  },
  {
   "cell_type": "markdown",
   "metadata": {},
   "source": [
    "## Extended case: distributions with unequal variances\n",
    "\n",
    "If the distribution from which the samples have been drawn have unequal variances, the $t$ statistic can be redefined as:\n",
    "\n",
    "$t = \\frac\n",
    "        {\\overline{x}-\\overline{y}}\n",
    "        { \\sqrt{ \\frac{var(x)}{N} + \\frac{var(y)}{M} } }\n",
    "$\n",
    "\n",
    "that follows a Student T distribution with $K$ degrees of freedom, where:\n",
    "\n",
    "$K = \\frac\n",
    "         { \\left[ \\frac{var(x)}{N} + \\frac{var(y)}{M} \\right]^2 }\n",
    "         { \\frac{(var(x)/N)^2}{N-1} + \\frac{(var(y)/M)^2}{M-1} }\n",
    "$\n",
    "\n",
    "As before, the significance of the test is defined as $P( |x| \\geq |t| )$\n",
    "\n",
    "## Example of test using two normal samples, unequal variances\n"
   ]
  },
  {
   "cell_type": "code",
   "execution_count": 21,
   "metadata": {
    "scrolled": true
   },
   "outputs": [
    {
     "data": {
      "image/png": "[encoded data removed]",
      "text/plain": [
       "<Figure size 432x288 with 1 Axes>"
      ]
     },
     "metadata": {
      "needs_background": "light"
     },
     "output_type": "display_data"
    }
   ],
   "source": [
    "%matplotlib inline\n",
    "import scipy.stats as scp\n",
    "import matplotlib.pylab as plt\n",
    "import numpy as np\n",
    "\n",
    "# Parameters of the normal distributions to use\n",
    "# and number of points per sample\n",
    "mu1=0\n",
    "sig1=5\n",
    "mu2=0\n",
    "sig2=1\n",
    "\n",
    "N= 1000\n",
    "M= 1000\n",
    "\n",
    "# Generate a normal sample \n",
    "x = scp.norm.rvs(mu1, sig1, N)\n",
    "y = scp.norm.rvs(mu2, sig2, N)\n",
    "\n",
    "# Plot histograms\n",
    "h= plt.hist(x, alpha=0.5)\n",
    "h= plt.hist(y, alpha=0.5)\n",
    "plt.grid(True)\n",
    "plt.xlabel('Val')\n",
    "plt.ylabel('Count')\n",
    "\n",
    "\n",
    "# Run test\n",
    "t_stat, p_val = scp.ttest_ind(x, y, equal_var=False)   # Use t-test assuming unequal variances\n",
    "\n",
    "t = plt.title(\"P value = {:.4f}\".format(p_val))\n",
    "plt.show()"
   ]
  },
  {
   "cell_type": "code",
   "execution_count": null,
   "metadata": {},
   "outputs": [],
   "source": []
  },
  {
   "cell_type": "code",
   "execution_count": null,
   "metadata": {},
   "outputs": [],
   "source": []
  },
  {
   "cell_type": "code",
   "execution_count": null,
   "metadata": {},
   "outputs": [],
   "source": []
  },
  {
   "cell_type": "code",
   "execution_count": null,
   "metadata": {},
   "outputs": [],
   "source": []
  },
  {
   "cell_type": "code",
   "execution_count": null,
   "metadata": {},
   "outputs": [],
   "source": []
  }
 ],
 "metadata": {
  "kernelspec": {
   "display_name": "Python 3",
   "language": "python",
   "name": "python3"
  },
  "language_info": {
   "codemirror_mode": {
    "name": "ipython",
    "version": 3
   },
   "file_extension": ".py",
   "mimetype": "text/x-python",
   "name": "python",
   "nbconvert_exporter": "python",
   "pygments_lexer": "ipython3",
   "version": "3.8.8"
  }
 },
 "nbformat": 4,
 "nbformat_minor": 2
}
