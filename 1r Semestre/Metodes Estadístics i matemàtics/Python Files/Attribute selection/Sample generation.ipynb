{
 "cells": [
  {
   "cell_type": "code",
   "execution_count": 33,
   "metadata": {},
   "outputs": [],
   "source": [
    "%matplotlib inline\n",
    "import numpy as np\n",
    "import scipy.stats as scp\n",
    "import matplotlib.pylab as plt\n",
    "import string\n",
    "\n",
    "# Number of types of objects and points per type of object\n",
    "Ntypes= 6\n",
    "NPsample= 200\n",
    "Means= []\n",
    "Sigmas= []\n",
    "Type= [ string.ascii_uppercase[i] for i in range(Ntypes) ]\n",
    "\n",
    "A= [ 0 for i in range(Ntypes) ]\n",
    "for i in range(Ntypes):\n",
    "    mu= float(10*i)\n",
    "    sig= 1\n",
    "    A[i]= scp.norm.rvs(mu,sig,NPsample)\n",
    "    A[i]= np.vstack( (A[i], scp.norm.rvs(mu,sig,NPsample)) )\n",
    "    A[i]= np.vstack( (A[i], scp.norm.rvs(mu,sig,NPsample)) )\n",
    "    A[i]= np.vstack( (A[i], scp.norm.rvs(mu,sig,NPsample)) )\n",
    "    A[i]= np.vstack( (A[i], scp.uniform.rvs(0.,1.,NPsample)) )\n",
    "    A[i]= np.vstack( (A[i], scp.uniform.rvs(0.,1.,NPsample)) )\n",
    "    A[i]= np.vstack( (A[i], [Type[i] for j in range(NPsample)] ) )\n",
    "    A[i]= A[i].transpose()\n",
    "\n",
    "# Save in arff format\n",
    "file= open(\"AttSel.arff\",\"w\")\n",
    "file.write(\"@relation AttSel\\n\")\n",
    "file.write(\"\\n\")\n",
    "for i in range(6):\n",
    "    file.write(\"@attribute C\"+str(i)+\" real\\n\")\n",
    "\n",
    "line=\"@attribute type {\"\n",
    "for i in range(Ntypes):\n",
    "    line=line + Type[i] + \",\"\n",
    "line= line[:-1]+\"}\\n\\n\"\n",
    "file.write(line)\n",
    "file.write(\"@data\\n\")\n",
    "\n",
    "for i in range(Ntypes):\n",
    "    for object in A[i]:\n",
    "        line= \"\"\n",
    "        for valor in object:\n",
    "            line= line + str(valor) +\",\"\n",
    "        line= line[:-1]+\"\\n\"\n",
    "        file.write(line)               \n",
    "\n",
    "file.close()"
   ]
  },
  {
   "cell_type": "code",
   "execution_count": null,
   "metadata": {},
   "outputs": [],
   "source": []
  }
 ],
 "metadata": {
  "kernelspec": {
   "display_name": "Python 3",
   "language": "python",
   "name": "python3"
  },
  "language_info": {
   "codemirror_mode": {
    "name": "ipython",
    "version": 3
   },
   "file_extension": ".py",
   "mimetype": "text/x-python",
   "name": "python",
   "nbconvert_exporter": "python",
   "pygments_lexer": "ipython3",
   "version": "3.7.4"
  }
 },
 "nbformat": 4,
 "nbformat_minor": 2
}
