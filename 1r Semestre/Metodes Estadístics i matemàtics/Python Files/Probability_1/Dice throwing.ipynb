{
 "cells": [
  {
   "cell_type": "markdown",
   "metadata": {},
   "source": [
    "# Binomial distribution: simulating dice throws\n",
    "\n",
    "### Sampling of dice values: even and uneven probabilities\n"
   ]
  },
  {
   "cell_type": "code",
   "execution_count": 7,
   "metadata": {},
   "outputs": [
    {
     "data": {
      "text/plain": [
       "<matplotlib.legend.Legend at 0x21b75a74d08>"
      ]
     },
     "execution_count": 7,
     "metadata": {},
     "output_type": "execute_result"
    },
    {
     "data": {
      "image/png": "[encoded data removed]",
      "text/plain": [
       "<Figure size 1080x540 with 1 Axes>"
      ]
     },
     "metadata": {
      "needs_background": "light"
     },
     "output_type": "display_data"
    }
   ],
   "source": [
    "%matplotlib inline\n",
    "import matplotlib.pyplot as plt\n",
    "import scipy.stats as scp \n",
    "import numpy as np\n",
    "\n",
    "N = 1000\n",
    "\n",
    "# Even probabilities\n",
    "even = np.random.choice([1,2,3,4,5,6], size=N, replace=True, p=[1/6,1/6,1/6,1/6,1/6,1/6])\n",
    "\n",
    "# Uneven probabilities\n",
    "uneven = np.random.choice([1,2,3,4,5,6], size=N, replace=True, p=[1/7,1/7,1/7,1/7,1/7,2/7])\n",
    "\n",
    "# Count instances of each value\n",
    "valuesE, countsE = np.unique(even, return_counts=True) # Count instances of each value\n",
    "valuesU, countsU = np.unique(uneven, return_counts=True) # Count instances of each value\n",
    "\n",
    "# Plot results\n",
    "fig = plt.figure(frameon=False)\n",
    "fig.set_size_inches(15,7.5)\n",
    "\n",
    "plt.xlabel(\"Number of positives\")\n",
    "plt.ylabel(\"Counts/Prediction\")\n",
    "b1= plt.bar(values-0.15,countsE,width=0.3, label=\"Even\")\n",
    "b2= plt.bar(values+0.15,countsU,width=0.3, label=\"Uneven\")\n",
    "plt.legend()"
   ]
  },
  {
   "cell_type": "markdown",
   "metadata": {},
   "source": [
    "### Combining several dice throws"
   ]
  },
  {
   "cell_type": "code",
   "execution_count": 19,
   "metadata": {},
   "outputs": [
    {
     "data": {
      "image/png": "[encoded data removed]",
      "text/plain": [
       "<Figure size 1080x540 with 1 Axes>"
      ]
     },
     "metadata": {
      "needs_background": "light"
     },
     "output_type": "display_data"
    }
   ],
   "source": [
    "%matplotlib inline\n",
    "import matplotlib.pyplot as plt\n",
    "import scipy.stats as scp \n",
    "import numpy as np\n",
    "\n",
    "Nt = 10    # Number of dice throws\n",
    "N = 10000  # Total of experiments\n",
    "\n",
    "# Add Nt series of N dice throws\n",
    "throws = np.zeros(N)\n",
    "for i in range(Nt):\n",
    "    t = np.random.choice([1,2,3,4,5,6], size=N, replace=True, p=[1/6,1/6,1/6,1/6,1/6,1/6])\n",
    "    throws = np.add(throws,t)\n",
    "    \n",
    "# Count instances of each value\n",
    "values, counts = np.unique(throws, return_counts=True) # Count instances of each value\n",
    "    \n",
    "# Plot results\n",
    "fig = plt.figure(frameon=False)\n",
    "fig.set_size_inches(15,7.5)\n",
    "\n",
    "plt.xlabel(\"Dice sum\")\n",
    "plt.ylabel(\"Counts\")\n",
    "b= plt.bar(values,counts)"
   ]
  },
  {
   "cell_type": "markdown",
   "metadata": {},
   "source": [
    "### Checking multiple dice throwing against the binomial distribution"
   ]
  },
  {
   "cell_type": "code",
   "execution_count": 95,
   "metadata": {},
   "outputs": [
    {
     "name": "stdout",
     "output_type": "stream",
     "text": [
      "Throwing 2 dices and getting all values equal to 4\n",
      "Observed ratio: 0.03296  Predicted ratio: 0.02778\n",
      "Observed counts: 3296  Predicted counts: 2777 out of 100000 trials\n"
     ]
    }
   ],
   "source": [
    "%matplotlib inline\n",
    "import matplotlib.pyplot as plt\n",
    "import scipy.stats as scp \n",
    "import numpy as np\n",
    "import pandas as pd\n",
    "\n",
    "Nt = 2    # Number of dice throws\n",
    "N = 100000  # Total of experiments\n",
    "\n",
    "# Generate Nt series of N dice throws; can try even and uneven probabilities (unloaded and loaded dice)\n",
    "series = pd.DataFrame()\n",
    "for i in range(Nt):\n",
    "#     series[i] = np.random.choice([1,2,3,4,5,6], size=N, replace=True, p=[1/6,1/6,1/6,1/6,1/6,1/6]) \n",
    "    series[i] = np.random.choice([1,2,3,4,5,6], size=N, replace=True, p=[10/61,10/61,10/61,11/61,10/61,10/61]) \n",
    "\n",
    "# Select subset with all throws equal to 4\n",
    "for i in range(Nt):\n",
    "    series= series[ (series[i]==4)]\n",
    "\n",
    "# Parameters of the binomial distribution\n",
    "Pside = 1/6 # Probability to get a given side\n",
    "dist = scp.binom(Nt,Pside) # Binomial distribution (N,Pside)\n",
    "\n",
    "# Compare observed ratio and predicted ratio\n",
    "print(\"Throwing\",Nt,\"dices and getting all values equal to 4\")\n",
    "print(\"Observed ratio: {:7.5f}  Predicted ratio: {:7.5f}\".format(len(series)/N,dist.pmf(Nt)) )\n",
    "print(\"Observed counts: {:d}  Predicted counts: {:d}\".format(len(series),int(N*dist.pmf(Nt)) ), \"out of\",N,\"trials\")"
   ]
  },
  {
   "cell_type": "code",
   "execution_count": null,
   "metadata": {},
   "outputs": [],
   "source": []
  },
  {
   "cell_type": "code",
   "execution_count": null,
   "metadata": {},
   "outputs": [],
   "source": []
  }
 ],
 "metadata": {
  "kernelspec": {
   "display_name": "Python 3",
   "language": "python",
   "name": "python3"
  },
  "language_info": {
   "codemirror_mode": {
    "name": "ipython",
    "version": 3
   },
   "file_extension": ".py",
   "mimetype": "text/x-python",
   "name": "python",
   "nbconvert_exporter": "python",
   "pygments_lexer": "ipython3",
   "version": "3.7.4"
  }
 },
 "nbformat": 4,
 "nbformat_minor": 1
}
