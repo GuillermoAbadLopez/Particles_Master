{
 "cells": [
  {
   "cell_type": "code",
   "execution_count": null,
   "metadata": {},
   "outputs": [],
   "source": [
    "from sklearn.decomposition import PCA\n",
    "from sklearn.preprocessing import StandardScaler\n",
    "\n",
    "features = ['sepal length', 'sepal width', 'petal length', 'petal width']# Separating out the features\n",
    "x = df.loc[:, features].values# Separating out the target\n",
    "y = df.loc[:,['target']].values# Standardizing the features\n",
    "x = StandardScaler().fit_transform(x)\n",
    "\n",
    "# if n_components is not set all components are kept:\n",
    "# If n_components == 'mle' and svd_solver == 'full', \n",
    "#    Minka’s MLE is used to guess the dimension. \n",
    "#    Use of n_components == 'mle' will interpret svd_solver == 'auto' as svd_solver == 'full'.\n",
    "\n",
    "# If 0 < n_components < 1 and svd_solver == 'full', \n",
    "#    select the number of components such that the amount \n",
    "#    of variance that needs to be explained is greater than \n",
    "#    the percentage specified by n_components.\n",
    "\n",
    "# If svd_solver == 'arpack', the number of components must \n",
    "#    be strictly less than the minimum of n_features and n_samples.\n",
    "pca = PCA(n_components=2) \n",
    "principalComponents = pca.fit_transform(x)\n",
    "principalDf = pd.DataFrame(data = principalComponents, \n",
    "              columns = ['principal component 1', 'principal component 2'])"
   ]
  }
 ],
 "metadata": {
  "kernelspec": {
   "display_name": "Python 3",
   "language": "python",
   "name": "python3"
  },
  "language_info": {
   "codemirror_mode": {
    "name": "ipython",
    "version": 3
   },
   "file_extension": ".py",
   "mimetype": "text/x-python",
   "name": "python",
   "nbconvert_exporter": "python",
   "pygments_lexer": "ipython3",
   "version": "3.7.4"
  }
 },
 "nbformat": 4,
 "nbformat_minor": 2
}
