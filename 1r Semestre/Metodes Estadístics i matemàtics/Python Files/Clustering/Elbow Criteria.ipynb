{
 "cells": [
  {
   "cell_type": "markdown",
   "metadata": {},
   "source": [
    "# Elbow Criteria\n",
    "\n",
    "Deciding how many clusters are adequate to represent a sample.\n",
    "\n",
    "First we generate a one-dimensional (for ease of visualization) sample composed of several normal distributions. The number of normal distributions used would be the \"correct\" number of clusters of the sample.\n",
    "\n",
    "Change the means of the distribution to produce \"closer\" or \"farther\" clusters."
   ]
  },
  {
   "cell_type": "code",
   "execution_count": 20,
   "metadata": {},
   "outputs": [
    {
     "name": "stdout",
     "output_type": "stream",
     "text": [
      "5\n"
     ]
    },
    {
     "data": {
      "text/plain": [
       "Text(0, 0.5, 'N')"
      ]
     },
     "execution_count": 20,
     "metadata": {},
     "output_type": "execute_result"
    },
    {
     "data": {
      "image/png": "[encoded data removed]",
      "text/plain": [
       "<Figure size 432x288 with 1 Axes>"
      ]
     },
     "metadata": {
      "needs_background": "light"
     },
     "output_type": "display_data"
    }
   ],
   "source": [
    "%matplotlib inline\n",
    "import scipy.stats as scp\n",
    "import matplotlib.pylab as plt\n",
    "import numpy as np\n",
    "\n",
    "# Parameters of the normal distributions to use\n",
    "# and number of points per sample\n",
    "mu= [0.,1.,2.,3.,4.]\n",
    "sig= [1.,2.,3.,4.,5.]\n",
    "N=10000\n",
    "Nnormals= len(mu)\n",
    "print(Nnormals)\n",
    "\n",
    "# Superpose several normal samples \n",
    "x= np.array([])\n",
    "for i in range(len(mu)):\n",
    "    x= np.append(x,scp.norm.rvs(mu[i], sig[i], N))\n",
    "    \n",
    "# Plot histogram\n",
    "h= plt.hist(x,40)\n",
    "plt.grid(True)\n",
    "plt.xlabel('x')\n",
    "plt.ylabel('N')"
   ]
  },
  {
   "cell_type": "markdown",
   "metadata": {},
   "source": [
    "Next we apply the EM clustering algorithm with a Gaussian Mixture model. We start with a run with the \"correct\" number of clusters to check that we recover the parameters of the normal distributions."
   ]
  },
  {
   "cell_type": "code",
   "execution_count": 21,
   "metadata": {},
   "outputs": [
    {
     "name": "stdout",
     "output_type": "stream",
     "text": [
      "Cluster  0: w= 0.076  mu= 9.586  sig= 2.749\n",
      "Cluster  1: w= 0.260  mu= 2.430  sig= 1.223\n",
      "Cluster  2: w= 0.168  mu= 5.558  sig= 1.582\n",
      "Cluster  3: w= 0.095  mu= -2.727  sig= 2.417\n",
      "Cluster  4: w= 0.400  mu= -0.100  sig= 1.108\n",
      "LogL=  -2.626162550807494\n"
     ]
    }
   ],
   "source": [
    "# import sklearn as skl\n",
    "from sklearn import mixture\n",
    "import math\n",
    "\n",
    "x= x.reshape(-1, 1)\n",
    "em = mixture.GaussianMixture(n_components=Nnormals, covariance_type='full').fit(x)\n",
    "\n",
    "for i in range(Nnormals):\n",
    "    l= \"Cluster {:2d}: w= {:.3f}  mu= {:.3f}  sig= {:-.3f}\".\\\n",
    "        format(i,em.weights_[i],em.means_[i][0],math.sqrt(em.covariances_[i][0][0]))\n",
    "    print(l)\n",
    "print(\"LogL= \", em.lower_bound_)"
   ]
  },
  {
   "cell_type": "markdown",
   "metadata": {},
   "source": [
    "Now we run EM with different numbers of clusters and collect the likelihood to trace a curve. The curve shows a change of slope at the right number of clusters, \"the elbow criteria\"."
   ]
  },
  {
   "cell_type": "code",
   "execution_count": 22,
   "metadata": {},
   "outputs": [
    {
     "data": {
      "text/plain": [
       "[<matplotlib.lines.Line2D at 0x2bee3026508>]"
      ]
     },
     "execution_count": 22,
     "metadata": {},
     "output_type": "execute_result"
    },
    {
     "data": {
      "image/png": "[encoded data removed]",
      "text/plain": [
       "<Figure size 432x288 with 1 Axes>"
      ]
     },
     "metadata": {
      "needs_background": "light"
     },
     "output_type": "display_data"
    }
   ],
   "source": [
    "# import sklearn as skl\n",
    "from sklearn import mixture\n",
    "import matplotlib.pylab as plt\n",
    "\n",
    "x= x.reshape(-1, 1)\n",
    "\n",
    "logL= []\n",
    "for i in range(1,Nnormals+5):\n",
    "    em = mixture.GaussianMixture(n_components=i, covariance_type='full').fit(x)\n",
    "    logL.append(em.lower_bound_)\n",
    "\n",
    "plt.xlabel(\"Num. clusters\")\n",
    "plt.ylabel(\"$\\log(L)$\")\n",
    "plt.title(\"Elbow criteria\")\n",
    "plt.grid()\n",
    "plt.plot(range(1,Nnormals+5),logL,marker=\"o\")"
   ]
  },
  {
   "cell_type": "code",
   "execution_count": null,
   "metadata": {},
   "outputs": [],
   "source": []
  }
 ],
 "metadata": {
  "kernelspec": {
   "display_name": "Python 3",
   "language": "python",
   "name": "python3"
  },
  "language_info": {
   "codemirror_mode": {
    "name": "ipython",
    "version": 3
   },
   "file_extension": ".py",
   "mimetype": "text/x-python",
   "name": "python",
   "nbconvert_exporter": "python",
   "pygments_lexer": "ipython3",
   "version": "3.7.4"
  }
 },
 "nbformat": 4,
 "nbformat_minor": 2
}
