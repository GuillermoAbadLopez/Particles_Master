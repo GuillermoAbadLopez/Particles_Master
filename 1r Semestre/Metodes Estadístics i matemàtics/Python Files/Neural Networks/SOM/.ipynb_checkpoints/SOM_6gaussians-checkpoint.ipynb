{
 "cells": [
  {
   "cell_type": "markdown",
   "metadata": {},
   "source": [
    "# SOM using Python\n",
    "\n",
    "__Source:__ https://visualstudiomagazine.com/articles/2019/01/01/self-organizing-maps-python.aspx\n",
    "\n",
    "Adaptation of the above code to the 6-gaussians dataset used in the TME course."
   ]
  },
  {
   "cell_type": "code",
   "execution_count": 1,
   "metadata": {},
   "outputs": [
    {
     "name": "stdout",
     "output_type": "stream",
     "text": [
      "\n",
      "Loading data into memory \n",
      "\n",
      "Constructing a  15 x 15  SOM from the data\n",
      "step =  0\n",
      "step =  500\n",
      "step =  1000\n",
      "step =  1500\n",
      "step =  2000\n",
      "step =  2500\n",
      "step =  3000\n",
      "step =  3500\n",
      "step =  4000\n",
      "step =  4500\n",
      "SOM construction complete \n",
      "\n",
      "Constructing U-Matrix from SOM\n",
      "U-Matrix constructed \n",
      "\n"
     ]
    },
    {
     "data": {
      "image/png": "[encoded data removed]",
      "text/plain": [
       "<Figure size 432x288 with 1 Axes>"
      ]
     },
     "metadata": {
      "needs_background": "light"
     },
     "output_type": "display_data"
    },
    {
     "name": "stdout",
     "output_type": "stream",
     "text": [
      "Associating each data label to one map node \n"
     ]
    },
    {
     "data": {
      "image/png": "[encoded data removed]",
      "text/plain": [
       "<Figure size 432x288 with 2 Axes>"
      ]
     },
     "metadata": {
      "needs_background": "light"
     },
     "output_type": "display_data"
    }
   ],
   "source": [
    "%matplotlib inline\n",
    "import numpy as np\n",
    "import matplotlib.pyplot as plt\n",
    "\n",
    "# Function to locate the \"closest node\" in the SOM map\n",
    "# for element of index \"t\" in the dataset. \n",
    "def closest_node(data, t, map, m_rows, m_cols):\n",
    "    \"\"\"Returns (row,col) of map node closest to data[t]\"\"\"\n",
    "    \n",
    "    result = (0,0)\n",
    "    small_dist = 1.0e20\n",
    "    for i in range(m_rows):\n",
    "        for j in range(m_cols):\n",
    "            ed = euc_dist(map[i][j], data[t])\n",
    "            if ed < small_dist:\n",
    "                small_dist = ed\n",
    "                result = (i, j)\n",
    "    return result\n",
    "\n",
    "# Euclidean distance between two vectors in parameter space\n",
    "def euc_dist(v1, v2):\n",
    "    return np.linalg.norm(v1 - v2) \n",
    "\n",
    "# Manhattan distance between two vectors in parameter space\n",
    "def manhattan_dist(r1, c1, r2, c2):\n",
    "    return np.abs(r1-r2) + np.abs(c1-c2)\n",
    "\n",
    "# Determine most common value in a list. Used to \n",
    "# determine the label of a neuron by finding its most\n",
    "# common response in a list of labels\n",
    "def most_common(lst, n):\n",
    "    # lst is a list of values 0 . . n\n",
    "    if len(lst) == 0: return -1\n",
    "    counts = np.zeros(shape=n, dtype=np.int)\n",
    "    for i in range(len(lst)):\n",
    "        counts[lst[i]] += 1\n",
    "    return np.argmax(counts)\n",
    "\n",
    "# ==================================================================\n",
    "\n",
    "# 0. get started\n",
    "np.random.seed(1)\n",
    "Dim = 3                 # Number of features\n",
    "Ntypes = 6              # Number of classes\n",
    "Rows = 15; Cols = 15    # Size of SOM map\n",
    "RangeMax = Rows + Cols  \n",
    "LearnMax = 0.5\n",
    "StepsMax = 5000\n",
    "\n",
    "# 1. load data from file\n",
    "print(\"\\nLoading data into memory \\n\")\n",
    "data_file = \"6-gaussianes.txt\"\n",
    "data_x = np.loadtxt(data_file, delimiter=\",\", usecols=range(0,3),\n",
    "         dtype=np.float64)\n",
    "data_y = np.loadtxt(data_file, delimiter=\",\", usecols=[3],\n",
    "         dtype=np.int)\n",
    "# option: normalize data  \n",
    "\n",
    "# 2. construct and training the SOM\n",
    "print(\"Constructing a \",Rows,\"x\",Cols,\" SOM from the data\")\n",
    "map = np.random.random_sample(size=(Rows,Cols,Dim))\n",
    "for s in range(StepsMax):\n",
    "    if s % (StepsMax/10) == 0: print(\"step = \", str(s))\n",
    "    pct_left = 1.0 - ((s * 1.0) / StepsMax)\n",
    "    curr_range = (int)(pct_left * RangeMax)\n",
    "    curr_rate = pct_left * LearnMax\n",
    "\n",
    "    t = np.random.randint(len(data_x))\n",
    "    (bmu_row, bmu_col) = closest_node(data_x, t, map, Rows, Cols)\n",
    "    for i in range(Rows):\n",
    "        for j in range(Cols):\n",
    "            if manhattan_dist(bmu_row, bmu_col, i, j) < curr_range:\n",
    "                map[i][j] = map[i][j] + curr_rate * \\\n",
    "                            (data_x[t] - map[i][j])\n",
    "print(\"SOM construction complete \\n\")\n",
    "\n",
    "# 3. construct U-Matrix\n",
    "print(\"Constructing U-Matrix from SOM\")\n",
    "u_matrix = np.zeros(shape=(Rows,Cols), dtype=np.float64)\n",
    "for i in range(Rows):\n",
    "    for j in range(Cols):\n",
    "        v = map[i][j]  # a vector \n",
    "        sum_dists = 0.0; ct = 0\n",
    "\n",
    "        if i-1 >= 0:    # above\n",
    "            sum_dists += euc_dist(v, map[i-1][j]); ct += 1\n",
    "        if i+1 <= Rows-1:   # below\n",
    "            sum_dists += euc_dist(v, map[i+1][j]); ct += 1\n",
    "        if j-1 >= 0:   # left\n",
    "            sum_dists += euc_dist(v, map[i][j-1]); ct += 1\n",
    "        if j+1 <= Cols-1:   # right\n",
    "            sum_dists += euc_dist(v, map[i][j+1]); ct += 1\n",
    "\n",
    "        u_matrix[i][j] = sum_dists / ct\n",
    "print(\"U-Matrix constructed \\n\")\n",
    "\n",
    "# display U-Matrix\n",
    "plt.imshow(u_matrix, cmap='gray')  # black = close = clusters\n",
    "plt.show()\n",
    "\n",
    "# 4. because the data has labels, another possible visualization:\n",
    "# associate each data label with a map node\n",
    "print(\"Associating each data label to one map node \")\n",
    "mapping = np.empty(shape=(Rows,Cols), dtype=object)\n",
    "for i in range(Rows):\n",
    "    for j in range(Cols):\n",
    "        mapping[i][j] = []\n",
    "\n",
    "for t in range(len(data_x)):\n",
    "    (m_row, m_col) = closest_node(data_x, t, map, Rows, Cols)\n",
    "    mapping[m_row][m_col].append(data_y[t])\n",
    "\n",
    "label_map = np.zeros(shape=(Rows,Cols), dtype=np.int)\n",
    "for i in range(Rows):\n",
    "    for j in range(Cols):\n",
    "        label_map[i][j] = most_common(mapping[i][j], Ntypes)\n",
    "\n",
    "plt.imshow(label_map, cmap=plt.cm.get_cmap('Set1', Ntypes+1))\n",
    "plt.colorbar()\n",
    "plt.show()"
   ]
  },
  {
   "cell_type": "markdown",
   "metadata": {},
   "source": [
    "### Use map for classification"
   ]
  },
  {
   "cell_type": "code",
   "execution_count": 2,
   "metadata": {},
   "outputs": [
    {
     "name": "stdout",
     "output_type": "stream",
     "text": [
      "Total:   4998\n",
      "Correct: 4896 (97.96%)\n"
     ]
    }
   ],
   "source": [
    "total= 0\n",
    "correct= 0\n",
    "for i in range(len(data_x)):\n",
    "    \n",
    "    # Select winning neuron\n",
    "    row, col = closest_node(data_x, i, map, Rows, Cols)\n",
    "    \n",
    "    # Collect classification from label map and compare\n",
    "    if data_y[i]==label_map[row][col]:\n",
    "        correct+=1\n",
    "    total+=1\n",
    "    \n",
    "print(\"Total:  \", total)\n",
    "print(\"Correct: {:d} ({:.2f}%)\".format(correct,100.*correct/total))"
   ]
  },
  {
   "cell_type": "markdown",
   "metadata": {},
   "source": [
    "### Confusion matrix"
   ]
  },
  {
   "cell_type": "code",
   "execution_count": 3,
   "metadata": {},
   "outputs": [
    {
     "data": {
      "image/png": "[encoded data removed]",
      "text/plain": [
       "<Figure size 1080x1080 with 2 Axes>"
      ]
     },
     "metadata": {
      "needs_background": "light"
     },
     "output_type": "display_data"
    }
   ],
   "source": [
    "import seaborn as sn\n",
    "import pandas as pd\n",
    "import matplotlib.pyplot as plt\n",
    "from sklearn.metrics import confusion_matrix\n",
    "\n",
    "# Generate list of true-predicted letter codes\n",
    "true= data_y\n",
    "\n",
    "pred= []\n",
    "for i in range(len(data_x)):\n",
    "    \n",
    "    # Select winning neuron\n",
    "    row, col = closest_node(data_x, i, map, Rows, Cols)\n",
    "    \n",
    "    # Collect classification from label\n",
    "    pred.append(label_map[row][col])\n",
    "\n",
    "# Generate confusion matrix\n",
    "CM= confusion_matrix(pred,true)\n",
    "\n",
    "# Plot heatmap\n",
    "df_cm = pd.DataFrame(CM, range(6), range(6))\n",
    "t_labels= [ chr(val+65) for val in range(0,6)]\n",
    "\n",
    "plt.figure(figsize=(15,15))\n",
    "\n",
    "sn.set(font_scale=1.5) # for label size\n",
    "HM= sn.heatmap(df_cm, annot=True, annot_kws={\"size\":20}, fmt=\"4d\")\n",
    "HM.set_yticklabels(t_labels)\n",
    "HM.set_xticklabels(t_labels)\n",
    "\n",
    "# Patch to avoid cut in top/bottom; see https://github.com/mwaskom/seaborn/issues/1773\n",
    "b, t = plt.ylim() # discover the values for bottom and top\n",
    "b += 0.5 # Add 0.5 to the bottom\n",
    "t -= 0.5 # Subtract 0.5 from the top\n",
    "plt.ylim(b, t) # update the ylim(bottom, top) values\n",
    "\n",
    "plt.xlabel(\"True\")\n",
    "plt.ylabel(\"Predicted\")\n",
    "plt.show()\n"
   ]
  },
  {
   "cell_type": "code",
   "execution_count": null,
   "metadata": {},
   "outputs": [],
   "source": []
  }
 ],
 "metadata": {
  "kernelspec": {
   "display_name": "Python 3",
   "language": "python",
   "name": "python3"
  },
  "language_info": {
   "codemirror_mode": {
    "name": "ipython",
    "version": 3
   },
   "file_extension": ".py",
   "mimetype": "text/x-python",
   "name": "python",
   "nbconvert_exporter": "python",
   "pygments_lexer": "ipython3",
   "version": "3.7.4"
  }
 },
 "nbformat": 4,
 "nbformat_minor": 2
}
