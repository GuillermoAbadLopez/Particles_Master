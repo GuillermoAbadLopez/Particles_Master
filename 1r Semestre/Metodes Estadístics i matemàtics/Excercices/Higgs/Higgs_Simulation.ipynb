{
 "cells": [
  {
   "cell_type": "markdown",
   "id": "5b79a4dc",
   "metadata": {},
   "source": [
    "## Simulation of the Higgs' boson detection experiment\n",
    "\n",
    "See: http://www.sciencedirect.com/science/article/pii/S037026931200857X\n",
    "\n",
    "Physics Letters B\n",
    "      Volume 716, Issue 1, 17 September 2012, Pages 1-29\n",
    "\n",
    "The following code produces a distribution of events that \n",
    "__qualitatively__ reproduces the values in Figure 4 of the above\n",
    "paper. It is not base on any actual physics but can be used\n",
    "for the purposes of this course to emulate the kind of distribution\n",
    "resulting from the experiment"
   ]
  },
  {
   "cell_type": "code",
   "execution_count": 12,
   "id": "44e5ba86",
   "metadata": {},
   "outputs": [
    {
     "data": {
      "image/png": "[encoded data removed]",
      "text/plain": [
       "<Figure size 432x288 with 1 Axes>"
      ]
     },
     "metadata": {
      "needs_background": "light"
     },
     "output_type": "display_data"
    }
   ],
   "source": [
    "%matplotlib inline\n",
    "import scipy.stats as sp\n",
    "import matplotlib.pyplot as plt\n",
    "import numpy as np\n",
    "\n",
    "# Higgs' boson mass in GeV \n",
    "mH= 126.5\n",
    "\n",
    "#Total number of events generated and ratios background/signal\n",
    "Ntot = 80000\n",
    "Nbg = int(Ntot*0.995)\n",
    "Ns = int(Ntot*0.005)\n",
    "\n",
    "# Max and min GeV of the sample\n",
    "min= 100\n",
    "max= 160\n",
    "\n",
    "# Rate\n",
    "tau= 0.0218\n",
    "\n",
    "# Generating background (truncated exponential)\n",
    "bg_dist= sp.truncexpon(b=(max-min)*tau, loc=min, scale=1./tau)\n",
    "bg_points= bg_dist.rvs(Nbg)\n",
    "\n",
    "# Generating signal (gaussian) around mH. We take a sigma of 2.\n",
    "sig_dist= sp.norm(loc=mH,scale=2)\n",
    "sig_points= sig_dist.rvs(Ns)\n",
    "\n",
    "# Join background and signal in a single sample\n",
    "all_points= np.concatenate( (bg_points,sig_points) )\n",
    "\n",
    "# Histogram of global sample\n",
    "# Note: the binning here is the one used in Figure 4\n",
    "_= plt.hist(all_points,bins=int((max-min)/2))"
   ]
  }
 ],
 "metadata": {
  "kernelspec": {
   "display_name": "Python 3",
   "language": "python",
   "name": "python3"
  },
  "language_info": {
   "codemirror_mode": {
    "name": "ipython",
    "version": 3
   },
   "file_extension": ".py",
   "mimetype": "text/x-python",
   "name": "python",
   "nbconvert_exporter": "python",
   "pygments_lexer": "ipython3",
   "version": "3.8.8"
  }
 },
 "nbformat": 4,
 "nbformat_minor": 5
}
